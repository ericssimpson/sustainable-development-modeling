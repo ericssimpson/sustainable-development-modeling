{
 "cells": [
  {
   "cell_type": "code",
   "execution_count": 10,
   "metadata": {},
   "outputs": [],
   "source": [
    "import matplotlib.pyplot as plt\n",
    "import pandas as pd\n",
    "\n",
    "sdg_slopes = pd.read_csv('sdg_slope_data.csv')\n",
    "sub_sdg_slopes = pd.read_csv('sub_sdg_slope_data.csv')\n",
    "\n",
    "sdg_goals_names = ['Goal 1 Score',\n",
    "                    'Goal 2 Score',\n",
    "                    'Goal 3 Score',\n",
    "                    'Goal 4 Score',\n",
    "                    'Goal 5 Score',\n",
    "                    'Goal 6 Score',\n",
    "                    'Goal 7 Score',\n",
    "                    'Goal 8 Score',\n",
    "                    'Goal 9 Score',\n",
    "                    'Goal 10 Score',\n",
    "                    'Goal 11 Score',\n",
    "                    'Goal 12 Score',\n",
    "                    'Goal 13 Score',\n",
    "                    'Goal 14 Score',\n",
    "                    'Goal 15 Score',\n",
    "                    'Goal 16 Score',\n",
    "                    'Goal 17 Score']"
   ]
  },
  {
   "cell_type": "code",
   "execution_count": 17,
   "metadata": {},
   "outputs": [],
   "source": [
    "wd = [\n",
    "    ['poverty', 0], ['hunger', 0], ['health', 1], ['education', 1], ['gender equality', 1],\n",
    "    ['water sanitation', 1], ['energy', 1], ['quality of work', 1], ['infrastructure', 1], \n",
    "    ['inequality', 0], ['city quality', 1], ['sustainability', 1], ['climate change', 0],\n",
    "    ['ocean health', 1], ['ecosystem health', 1], ['society', 1], ['international partnership', 1]\n",
    "]\n",
    "\n",
    "def plot_sdg_means(ind, dep, const=False, save_dir=None):\n",
    "    str1 = f'Slope as {wd[ind][0]} ' + 'increases' if wd[ind][1] else 'decreases'\n",
    "    str2 = 'Predicted effect on ' + 'increasing' if wd[dep][1] else 'decreasing' + wd[dep][0]\n",
    "    title = f'{wd[ind][0].capitalize()} vs. {wd[dep][0].capitalize()}'\n",
    "\n",
    "    data = sdg_slopes.loc[(sdg_slopes['Slope to'] == sdg_goals_names[dep]) & (sdg_slopes['SDG Frame'] > 0)]\n",
    "    constant = sdg_slopes.loc[(sdg_slopes['Slope to'] == sdg_goals_names[dep]) & (sdg_slopes['SDG Frame'] == 0)]\n",
    "    fig, ax = plt.subplots()\n",
    "\n",
    "    l1, = ax.plot(data['SDG Frame'], data[sdg_goals_names[ind]], 'b-', label=str1)\n",
    "    l2 = ax.fill_between(data['SDG Frame'], data[sdg_goals_names[ind]] - data[sdg_goals_names[ind] + \" Error\"], data[sdg_goals_names[ind]] + data[sdg_goals_names[ind] + \" Error\"], color='b', alpha=0.2)\n",
    "    if const:\n",
    "        ax.hlines(y=constant[sdg_goals_names[ind]], xmin=38, xmax=86, linewidth=2, color='teal', label='linear regression over all data')\n",
    "    ax.set(title=title, xlabel='Average SDG', ylabel=str2)\n",
    "    plt.legend()\n",
    "\n",
    "    if save_dir:\n",
    "        fig.savefig(f'{save_dir}/{title}.png')"
   ]
  },
  {
   "cell_type": "code",
   "execution_count": null,
   "metadata": {},
   "outputs": [],
   "source": [
    "combinations = [(i, j) for i in range(17) for j in range(17) if i != j]\n",
    "\n",
    "for i, j in combinations:\n",
    "    plot_sdg_means(i, j)"
   ]
  },
  {
   "cell_type": "code",
   "execution_count": null,
   "metadata": {},
   "outputs": [],
   "source": []
  }
 ],
 "metadata": {
  "kernelspec": {
   "display_name": "base",
   "language": "python",
   "name": "python3"
  },
  "language_info": {
   "codemirror_mode": {
    "name": "ipython",
    "version": 3
   },
   "file_extension": ".py",
   "mimetype": "text/x-python",
   "name": "python",
   "nbconvert_exporter": "python",
   "pygments_lexer": "ipython3",
   "version": "3.9.13"
  },
  "orig_nbformat": 4,
  "vscode": {
   "interpreter": {
    "hash": "1fa91355f5132e732125ffcbe706e3230142fb52c8973bbabdc3fd891bba8671"
   }
  }
 },
 "nbformat": 4,
 "nbformat_minor": 2
}
