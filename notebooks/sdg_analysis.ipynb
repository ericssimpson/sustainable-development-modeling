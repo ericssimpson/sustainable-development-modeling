{
 "cells": [
  {
   "cell_type": "code",
   "execution_count": 34,
   "metadata": {},
   "outputs": [],
   "source": [
    "# Utility modules\n",
    "import os\n",
    "import sys\n",
    "import re\n",
    "\n",
    "# Add the project root directory to Python path\n",
    "notebook_dir = os.path.dirname(os.path.abspath('__file__'))\n",
    "project_root = os.path.dirname(notebook_dir)\n",
    "sys.path.insert(0, project_root)\n",
    "\n",
    "# Configuration\n",
    "from config import SDR_DATABASE_PATH\n",
    "\n",
    "# Data manipulation and analysis\n",
    "import numpy as np\n",
    "import pandas as pd\n",
    "\n",
    "# Visualization\n",
    "import matplotlib.pyplot as plt\n",
    "import seaborn as sns\n",
    "\n",
    "# Network analysis\n",
    "import networkx as nx\n",
    "import igraph as ig\n",
    "\n",
    "# Scientific computing\n",
    "from scipy.sparse import csr_matrix\n",
    "\n",
    "# Machine learning\n",
    "from sklearn.preprocessing import scale\n",
    "\n",
    "# Suppress warnings\n",
    "import warnings\n",
    "warnings.filterwarnings('ignore')"
   ]
  },
  {
   "cell_type": "code",
   "execution_count": 35,
   "metadata": {},
   "outputs": [
    {
     "name": "stdout",
     "output_type": "stream",
     "text": [
      "Successfully loaded data from c:\\Repository\\sustainable-development-modeling\\data\\raw\\SDR-2022-database.xlsx\n",
      "Loaded data shape: (3894, 119)\n"
     ]
    }
   ],
   "source": [
    "def load_sdg_data():\n",
    "    try:\n",
    "        sdg_data_main = pd.read_excel(SDR_DATABASE_PATH)\n",
    "        print(f\"Successfully loaded data from {SDR_DATABASE_PATH}\")\n",
    "        return sdg_data_main\n",
    "    except FileNotFoundError:\n",
    "        print(f\"Error: The file {SDR_DATABASE_PATH} was not found.\")\n",
    "        return None\n",
    "    except Exception as e:\n",
    "        print(f\"An error occurred while reading the file: {e}\")\n",
    "        return None\n",
    "\n",
    "sdg_data_main = load_sdg_data()\n",
    "\n",
    "if sdg_data_main is not None:\n",
    "    print(f\"Loaded data shape: {sdg_data_main.shape}\")\n",
    "else:\n",
    "    print(\"Unable to proceed with analysis due to data loading error.\")"
   ]
  },
  {
   "cell_type": "code",
   "execution_count": 36,
   "metadata": {},
   "outputs": [
    {
     "name": "stdout",
     "output_type": "stream",
     "text": [
      "   Country Code ISO3      Country  Year  Population       Region Income Group  \\\n",
      "18               AFG  Afghanistan  2018  37171922.0  E_Euro_Asia          LIC   \n",
      "19               AFG  Afghanistan  2019  38041757.0  E_Euro_Asia          LIC   \n",
      "20               AFG  Afghanistan  2020  38928341.0  E_Euro_Asia          LIC   \n",
      "21               AFG  Afghanistan  2021  39835428.0  E_Euro_Asia          LIC   \n",
      "40               ALB      Albania  2018   2882735.0  E_Euro_Asia         UMIC   \n",
      "\n",
      "    SDG Index Score  Goal 1 Score  Goal 2 Score  Goal 3 Score  ...  \\\n",
      "18        51.861687     91.417142     52.326286     38.125429  ...   \n",
      "19        51.847886     91.417142     51.583286     37.612071  ...   \n",
      "20        51.860679     91.417142     51.583286     38.087500  ...   \n",
      "21        52.182782     91.417142     51.583286     38.087500  ...   \n",
      "40        72.208848     90.868000     59.869857     82.817143  ...   \n",
      "\n",
      "    n_sdg16_cpi  n_sdg16_clabor  n_sdg16_weaponsexp  n_sdg16_rsf  \\\n",
      "18        3.968          45.573               100.0       61.029   \n",
      "19        3.968          45.573               100.0       62.071   \n",
      "20        7.937          45.573               100.0       60.429   \n",
      "21        3.968          45.573               100.0       56.871   \n",
      "40       30.423          91.603               100.0       72.157   \n",
      "\n",
      "    n_sdg16_justice  n_sdg17_govex  n_sdg17_oda  n_sdg17_govrev  \\\n",
      "18           56.615         24.993          NaN           10.13   \n",
      "19           59.538         28.653          NaN           10.13   \n",
      "20           53.846         28.653          NaN           10.13   \n",
      "21           53.846         28.653          NaN           10.13   \n",
      "40           63.846         42.913          NaN           51.59   \n",
      "\n",
      "    n_sdg17_cohaven  n_sdg17_statperf  \n",
      "18            100.0            33.127  \n",
      "19            100.0            33.008  \n",
      "20            100.0            33.008  \n",
      "21            100.0            33.008  \n",
      "40            100.0            70.129  \n",
      "\n",
      "[5 rows x 119 columns]\n"
     ]
    }
   ],
   "source": [
    "# Filter data to include only years from 2018 onwards\n",
    "sdg_data_back = sdg_data_main[sdg_data_main['Year'] >= 2018]\n",
    "\n",
    "# Display the first 5 rows of the filtered data\n",
    "print(sdg_data_back.head())"
   ]
  },
  {
   "cell_type": "code",
   "execution_count": 37,
   "metadata": {},
   "outputs": [
    {
     "name": "stdout",
     "output_type": "stream",
     "text": [
      "   Country Code ISO3      Country  Year  Population       Region Income Group  \\\n",
      "0                AFG  Afghanistan  2000  20779957.0  E_Euro_Asia          LIC   \n",
      "1                AFG  Afghanistan  2001  21606992.0  E_Euro_Asia          LIC   \n",
      "2                AFG  Afghanistan  2002  22600774.0  E_Euro_Asia          LIC   \n",
      "3                AFG  Afghanistan  2003  23680871.0  E_Euro_Asia          LIC   \n",
      "4                AFG  Afghanistan  2004  24726689.0  E_Euro_Asia          LIC   \n",
      "5                AFG  Afghanistan  2005  25654274.0  E_Euro_Asia          LIC   \n",
      "6                AFG  Afghanistan  2006  26433058.0  E_Euro_Asia          LIC   \n",
      "7                AFG  Afghanistan  2007  27100542.0  E_Euro_Asia          LIC   \n",
      "8                AFG  Afghanistan  2008  27722281.0  E_Euro_Asia          LIC   \n",
      "9                AFG  Afghanistan  2009  28394806.0  E_Euro_Asia          LIC   \n",
      "10               AFG  Afghanistan  2010  29185511.0  E_Euro_Asia          LIC   \n",
      "11               AFG  Afghanistan  2011  30117411.0  E_Euro_Asia          LIC   \n",
      "12               AFG  Afghanistan  2012  31161378.0  E_Euro_Asia          LIC   \n",
      "13               AFG  Afghanistan  2013  32269592.0  E_Euro_Asia          LIC   \n",
      "14               AFG  Afghanistan  2014  33370804.0  E_Euro_Asia          LIC   \n",
      "15               AFG  Afghanistan  2015  34413603.0  E_Euro_Asia          LIC   \n",
      "16               AFG  Afghanistan  2016  35383028.0  E_Euro_Asia          LIC   \n",
      "17               AFG  Afghanistan  2017  36296111.0  E_Euro_Asia          LIC   \n",
      "22               ALB      Albania  2000   3129246.0  E_Euro_Asia         UMIC   \n",
      "\n",
      "    SDG Index Score  Goal 1 Score  Goal 2 Score  Goal 3 Score  ...  \\\n",
      "0         44.819087     91.417142     33.883143     20.329857  ...   \n",
      "1         45.109257     91.417142     36.932429     20.445929  ...   \n",
      "2         45.032270     91.417142     35.922000     20.720143  ...   \n",
      "3         45.275423     91.417142     37.142571     20.932000  ...   \n",
      "4         45.530799     91.417142     37.827429     21.980500  ...   \n",
      "5         45.661777     91.417142     39.977000     23.619286  ...   \n",
      "6         45.756497     91.417142     41.212429     23.790643  ...   \n",
      "7         46.036945     91.417142     43.118857     25.500214  ...   \n",
      "8         45.312562     91.417142     43.237857     26.968857  ...   \n",
      "9         45.964674     91.417142     45.346286     29.136000  ...   \n",
      "10        46.519422     91.417142     45.393429     32.424071  ...   \n",
      "11        46.264831     91.417142     44.275143     31.664286  ...   \n",
      "12        47.254441     91.417142     43.756000     31.487714  ...   \n",
      "13        47.393352     91.417142     46.095857     30.732214  ...   \n",
      "14        48.230202     91.417142     46.767429     31.975143  ...   \n",
      "15        48.134599     91.417142     47.988571     35.151571  ...   \n",
      "16        50.736266     91.417142     47.931286     36.090714  ...   \n",
      "17        51.278757     91.417142     47.684857     36.487429  ...   \n",
      "22        63.763257     94.318500     41.565571     73.988500  ...   \n",
      "\n",
      "    n_sdg16_cpi  n_sdg16_clabor  n_sdg16_weaponsexp  n_sdg16_rsf  \\\n",
      "0         0.000          45.573               100.0       61.329   \n",
      "1         0.000          45.573               100.0       61.329   \n",
      "2         0.000          45.573               100.0       61.329   \n",
      "3         0.000          45.573               100.0       61.329   \n",
      "4         0.000          45.573               100.0       61.329   \n",
      "5         0.000          45.573               100.0       61.329   \n",
      "6         0.000          45.573               100.0       61.329   \n",
      "7         0.000          45.573               100.0       61.329   \n",
      "8         0.000          45.573               100.0       61.329   \n",
      "9         0.000          45.573               100.0       61.329   \n",
      "10        0.000          45.573               100.0       61.329   \n",
      "11        0.000          45.573               100.0       61.329   \n",
      "12        0.000          45.573               100.0       61.329   \n",
      "13        0.000          45.573               100.0       61.329   \n",
      "14        0.000          45.573               100.0       60.800   \n",
      "15        0.000          45.573               100.0       60.357   \n",
      "16        2.646          45.573               100.0       60.357   \n",
      "17        2.646          45.573               100.0       57.914   \n",
      "22       26.455          91.603               100.0       71.543   \n",
      "\n",
      "    n_sdg16_justice  n_sdg17_govex  n_sdg17_oda  n_sdg17_govrev  \\\n",
      "0            42.308         26.327          NaN           0.000   \n",
      "1            42.308         26.327          NaN           0.000   \n",
      "2            42.308         26.327          NaN           0.000   \n",
      "3            42.308         26.327          NaN           0.000   \n",
      "4            42.308         26.327          NaN           0.000   \n",
      "5            42.308         26.327          NaN           0.000   \n",
      "6            42.308         26.327          NaN           0.000   \n",
      "7            42.308         26.327          NaN           0.000   \n",
      "8            42.308         26.327          NaN           0.000   \n",
      "9            42.308         26.327          NaN           1.917   \n",
      "10           42.308         26.327          NaN           3.640   \n",
      "11           42.308         26.280          NaN           5.033   \n",
      "12           42.308         25.367          NaN           0.670   \n",
      "13           42.308         25.987          NaN           0.000   \n",
      "14           42.308         27.787          NaN           0.000   \n",
      "15           46.769         25.187          NaN           0.437   \n",
      "16           46.769         27.413          NaN           8.927   \n",
      "17           55.846         26.773          NaN          10.130   \n",
      "22           71.385         41.307          NaN          46.603   \n",
      "\n",
      "    n_sdg17_cohaven  n_sdg17_statperf  \n",
      "0             100.0            16.297  \n",
      "1             100.0            16.297  \n",
      "2             100.0            16.297  \n",
      "3             100.0            16.297  \n",
      "4             100.0            16.297  \n",
      "5             100.0            16.297  \n",
      "6             100.0            16.297  \n",
      "7             100.0            16.297  \n",
      "8             100.0            16.297  \n",
      "9             100.0            16.297  \n",
      "10            100.0            16.297  \n",
      "11            100.0            16.297  \n",
      "12            100.0            16.297  \n",
      "13            100.0            16.297  \n",
      "14            100.0            16.297  \n",
      "15            100.0            16.297  \n",
      "16            100.0            16.297  \n",
      "17            100.0            23.437  \n",
      "22            100.0            51.873  \n",
      "\n",
      "[19 rows x 119 columns]\n"
     ]
    }
   ],
   "source": [
    "# Filter out data from 2018 onwards\n",
    "sdg_data = sdg_data_main.drop(sdg_data_main[sdg_data_main['Year'] >= 2018].index)\n",
    "\n",
    "# Display the first 19 rows of the filtered data\n",
    "print(sdg_data.head(19))"
   ]
  },
  {
   "cell_type": "code",
   "execution_count": 38,
   "metadata": {},
   "outputs": [
    {
     "name": "stdout",
     "output_type": "stream",
     "text": [
      "              Goal 1 Score  Goal 2 Score  Goal 3 Score  Goal 4 Score  \\\n",
      "Goal 1 Score      1.000000      0.537421      0.887495      0.784291   \n",
      "Goal 2 Score      0.537421      1.000000      0.656795      0.624993   \n",
      "Goal 3 Score      0.887495      0.656795      1.000000      0.862728   \n",
      "Goal 4 Score      0.784291      0.624993      0.862728      1.000000   \n",
      "Goal 5 Score      0.454163      0.549329      0.604188      0.684831   \n",
      "\n",
      "              Goal 5 Score  Goal 6 Score  Goal 7 Score  Goal 8 Score  \\\n",
      "Goal 1 Score      0.454163      0.749455      0.752456      0.534218   \n",
      "Goal 2 Score      0.549329      0.652767      0.532754      0.637984   \n",
      "Goal 3 Score      0.604188      0.817959      0.791085      0.685483   \n",
      "Goal 4 Score      0.684831      0.743789      0.744999      0.647507   \n",
      "Goal 5 Score      1.000000      0.654283      0.544278      0.619587   \n",
      "\n",
      "              Goal 9 Score  Goal 10 Score  Goal 11 Score  Goal 12 Score  \\\n",
      "Goal 1 Score      0.597812       0.464367       0.720686      -0.669936   \n",
      "Goal 2 Score      0.643947       0.270246       0.549221      -0.544744   \n",
      "Goal 3 Score      0.740929       0.418346       0.800567      -0.753577   \n",
      "Goal 4 Score      0.632287       0.267516       0.767259      -0.666911   \n",
      "Goal 5 Score      0.613087       0.072556       0.629669      -0.590898   \n",
      "\n",
      "              Goal 13 Score  Goal 14 Score  Goal 15 Score  Goal 16 Score  \\\n",
      "Goal 1 Score      -0.578980      -0.255324       0.029609       0.661678   \n",
      "Goal 2 Score      -0.485195      -0.113936       0.158775       0.607300   \n",
      "Goal 3 Score      -0.646351      -0.237278       0.057181       0.775286   \n",
      "Goal 4 Score      -0.560665      -0.208791       0.038102       0.640908   \n",
      "Goal 5 Score      -0.430327      -0.014142       0.218705       0.519789   \n",
      "\n",
      "              Goal 17 Score  \n",
      "Goal 1 Score       0.416940  \n",
      "Goal 2 Score       0.301736  \n",
      "Goal 3 Score       0.448879  \n",
      "Goal 4 Score       0.422162  \n",
      "Goal 5 Score       0.458469  \n"
     ]
    },
    {
     "data": {
      "image/png": "[encoded data removed]",
      "text/plain": [
       "<Figure size 600x500 with 2 Axes>"
      ]
     },
     "metadata": {},
     "output_type": "display_data"
    }
   ],
   "source": [
    "# Initialize dictionary to hold SDG goals and related columns\n",
    "sdg_goals = {}\n",
    "\n",
    "# Identify SDG goal columns based on their names\n",
    "for column in sdg_data.columns:\n",
    "    if column.startswith('Goal '):  # If column starts with 'Goal ', it's an SDG goal score\n",
    "        sdg_goals[column] = []\n",
    "    elif column.startswith('n_sdg'):  # If column starts with 'n_sdg', extract goal number\n",
    "        n_sdg = column[5:7]\n",
    "        goal_number = re.sub('[^0-9]', '', n_sdg)  # Extract the numeric part of the column\n",
    "        goal_key = f'Goal {goal_number} Score'\n",
    "        if goal_key in sdg_goals:\n",
    "            sdg_goals[goal_key].append(column)\n",
    "\n",
    "# Clean the SDG data by removing rows with missing values\n",
    "sdg_goal_columns = list(sdg_goals.keys())\n",
    "sdg_goal_data_clean = sdg_data[sdg_goal_columns].dropna()\n",
    "\n",
    "# Calculate the correlation matrix for the SDG goal data\n",
    "sdg_pearson_data = sdg_goal_data_clean.corr(method='pearson')\n",
    "\n",
    "# Display the first few rows of the correlation matrix\n",
    "print(sdg_pearson_data.head())\n",
    "\n",
    "# Create a heatmap for the SDG goal correlation matrix\n",
    "plt.figure(figsize=(6, 5))\n",
    "sns.heatmap(sdg_pearson_data, annot=False, cmap='coolwarm', vmin=-1, vmax=1)\n",
    "plt.title('Correlation Heatmap of SDG Goal Data')\n",
    "plt.show()"
   ]
  },
  {
   "cell_type": "code",
   "execution_count": 40,
   "metadata": {},
   "outputs": [
    {
     "ename": "KeyError",
     "evalue": "\"None of [Index(['n_sdg1_wpc', 'n_sdg1_320pov', 'n_sdg2_undernsh', 'n_sdg2_stunting',\\n       'n_sdg2_wasting', 'n_sdg2_obesity', 'n_sdg2_trophic', 'n_sdg2_crlyld',\\n       'n_sdg2_snmi', 'n_sdg2_pestexp', 'n_sdg3_matmort', 'n_sdg3_neonat',\\n       'n_sdg3_u5mort', 'n_sdg3_tb', 'n_sdg3_hiv', 'n_sdg3_ncds',\\n       'n_sdg3_pollmort', 'n_sdg3_traffic', 'n_sdg3_lifee', 'n_sdg3_fertility',\\n       'n_sdg3_births', 'n_sdg3_vac', 'n_sdg3_uhc', 'n_sdg3_swb',\\n       'n_sdg4_earlyedu', 'n_sdg4_primary', 'n_sdg4_second', 'n_sdg4_literacy',\\n       'n_sdg5_familypl', 'n_sdg5_edat', 'n_sdg5_lfpr', 'n_sdg5_parl',\\n       'n_sdg6_water', 'n_sdg6_sanita', 'n_sdg6_freshwat', 'n_sdg6_wastewat',\\n       'n_sdg6_scarcew', 'n_sdg7_elecac', 'n_sdg7_cleanfuel', 'n_sdg7_co2twh',\\n       'n_sdg7_ren', 'n_sdg8_adjgrowth', 'n_sdg8_slavery', 'n_sdg8_accounts',\\n       'n_sdg8_unemp', 'n_sdg8_rights', 'n_sdg8_impacc', 'n_sdg9_intuse',\\n       'n_sdg9_mobuse', 'n_sdg9_lpi', 'n_sdg9_uni', 'n_sdg9_articles',\\n       'n_sdg9_rdex', 'n_sdg10_gini', 'n_sdg10_palma', 'n_sdg11_slums',\\n       'n_sdg11_pm25', 'n_sdg11_pipedwat', 'n_sdg11_transport', 'n_sdg12_msw',\\n       'n_sdg12_ewaste', 'n_sdg12_so2prod', 'n_sdg12_so2import',\\n       'n_sdg12_nprod', 'n_sdg12_nimport', 'n_sdg12_explastic',\\n       'n_sdg13_co2gcp', 'n_sdg13_co2import', 'n_sdg13_co2export',\\n       'n_sdg14_cpma', 'n_sdg14_cleanwat', 'n_sdg14_fishstocks',\\n       'n_sdg14_trawl', 'n_sdg14_discard', 'n_sdg14_biomar', 'n_sdg15_cpta',\\n       'n_sdg15_cpfa', 'n_sdg15_redlist', 'n_sdg15_forchg',\\n       'n_sdg15_biofrwter', 'n_sdg16_homicides', 'n_sdg16_detain',\\n       'n_sdg16_safe', 'n_sdg16_prs', 'n_sdg16_u5reg', 'n_sdg16_cpi',\\n       'n_sdg16_clabor', 'n_sdg16_weaponsexp', 'n_sdg16_rsf',\\n       'n_sdg16_justice', 'n_sdg17_govex', 'n_sdg17_oda', 'n_sdg17_govrev',\\n       'n_sdg17_cohaven', 'n_sdg17_statperf'],\\n      dtype='object')] are in the [columns]\"",
     "output_type": "error",
     "traceback": [
      "\u001b[1;31m---------------------------------------------------------------------------\u001b[0m",
      "\u001b[1;31mKeyError\u001b[0m                                  Traceback (most recent call last)",
      "Cell \u001b[1;32mIn[40], line 8\u001b[0m\n\u001b[0;32m      5\u001b[0m         sdg_sub_goals\u001b[38;5;241m.\u001b[39msetdefault(sub_goal, [])\u001b[38;5;241m.\u001b[39mappend(main_goal)\n\u001b[0;32m      7\u001b[0m \u001b[38;5;66;03m# Extract the relevant sub-goals from the correlation matrix\u001b[39;00m\n\u001b[1;32m----> 8\u001b[0m sdg_bipart_pearson \u001b[38;5;241m=\u001b[39m \u001b[43msdg_pearson_data\u001b[49m\u001b[43m[\u001b[49m\u001b[38;5;28;43mlist\u001b[39;49m\u001b[43m(\u001b[49m\u001b[43msdg_sub_goals\u001b[49m\u001b[38;5;241;43m.\u001b[39;49m\u001b[43mkeys\u001b[49m\u001b[43m(\u001b[49m\u001b[43m)\u001b[49m\u001b[43m)\u001b[49m\u001b[43m]\u001b[49m\n\u001b[0;32m     10\u001b[0m \u001b[38;5;66;03m# Limit the correlation matrix to rows corresponding to main SDG goals\u001b[39;00m\n\u001b[0;32m     11\u001b[0m sdg_bipart_pearson \u001b[38;5;241m=\u001b[39m sdg_bipart_pearson\u001b[38;5;241m.\u001b[39mloc[\u001b[38;5;28mlist\u001b[39m(sdg_goals\u001b[38;5;241m.\u001b[39mkeys())]\n",
      "File \u001b[1;32mc:\\Users\\Eric Simpson\\AppData\\Local\\Programs\\Python\\Python312\\Lib\\site-packages\\pandas\\core\\frame.py:4108\u001b[0m, in \u001b[0;36mDataFrame.__getitem__\u001b[1;34m(self, key)\u001b[0m\n\u001b[0;32m   4106\u001b[0m     \u001b[38;5;28;01mif\u001b[39;00m is_iterator(key):\n\u001b[0;32m   4107\u001b[0m         key \u001b[38;5;241m=\u001b[39m \u001b[38;5;28mlist\u001b[39m(key)\n\u001b[1;32m-> 4108\u001b[0m     indexer \u001b[38;5;241m=\u001b[39m \u001b[38;5;28;43mself\u001b[39;49m\u001b[38;5;241;43m.\u001b[39;49m\u001b[43mcolumns\u001b[49m\u001b[38;5;241;43m.\u001b[39;49m\u001b[43m_get_indexer_strict\u001b[49m\u001b[43m(\u001b[49m\u001b[43mkey\u001b[49m\u001b[43m,\u001b[49m\u001b[43m \u001b[49m\u001b[38;5;124;43m\"\u001b[39;49m\u001b[38;5;124;43mcolumns\u001b[39;49m\u001b[38;5;124;43m\"\u001b[39;49m\u001b[43m)\u001b[49m[\u001b[38;5;241m1\u001b[39m]\n\u001b[0;32m   4110\u001b[0m \u001b[38;5;66;03m# take() does not accept boolean indexers\u001b[39;00m\n\u001b[0;32m   4111\u001b[0m \u001b[38;5;28;01mif\u001b[39;00m \u001b[38;5;28mgetattr\u001b[39m(indexer, \u001b[38;5;124m\"\u001b[39m\u001b[38;5;124mdtype\u001b[39m\u001b[38;5;124m\"\u001b[39m, \u001b[38;5;28;01mNone\u001b[39;00m) \u001b[38;5;241m==\u001b[39m \u001b[38;5;28mbool\u001b[39m:\n",
      "File \u001b[1;32mc:\\Users\\Eric Simpson\\AppData\\Local\\Programs\\Python\\Python312\\Lib\\site-packages\\pandas\\core\\indexes\\base.py:6200\u001b[0m, in \u001b[0;36mIndex._get_indexer_strict\u001b[1;34m(self, key, axis_name)\u001b[0m\n\u001b[0;32m   6197\u001b[0m \u001b[38;5;28;01melse\u001b[39;00m:\n\u001b[0;32m   6198\u001b[0m     keyarr, indexer, new_indexer \u001b[38;5;241m=\u001b[39m \u001b[38;5;28mself\u001b[39m\u001b[38;5;241m.\u001b[39m_reindex_non_unique(keyarr)\n\u001b[1;32m-> 6200\u001b[0m \u001b[38;5;28;43mself\u001b[39;49m\u001b[38;5;241;43m.\u001b[39;49m\u001b[43m_raise_if_missing\u001b[49m\u001b[43m(\u001b[49m\u001b[43mkeyarr\u001b[49m\u001b[43m,\u001b[49m\u001b[43m \u001b[49m\u001b[43mindexer\u001b[49m\u001b[43m,\u001b[49m\u001b[43m \u001b[49m\u001b[43maxis_name\u001b[49m\u001b[43m)\u001b[49m\n\u001b[0;32m   6202\u001b[0m keyarr \u001b[38;5;241m=\u001b[39m \u001b[38;5;28mself\u001b[39m\u001b[38;5;241m.\u001b[39mtake(indexer)\n\u001b[0;32m   6203\u001b[0m \u001b[38;5;28;01mif\u001b[39;00m \u001b[38;5;28misinstance\u001b[39m(key, Index):\n\u001b[0;32m   6204\u001b[0m     \u001b[38;5;66;03m# GH 42790 - Preserve name from an Index\u001b[39;00m\n",
      "File \u001b[1;32mc:\\Users\\Eric Simpson\\AppData\\Local\\Programs\\Python\\Python312\\Lib\\site-packages\\pandas\\core\\indexes\\base.py:6249\u001b[0m, in \u001b[0;36mIndex._raise_if_missing\u001b[1;34m(self, key, indexer, axis_name)\u001b[0m\n\u001b[0;32m   6247\u001b[0m \u001b[38;5;28;01mif\u001b[39;00m nmissing:\n\u001b[0;32m   6248\u001b[0m     \u001b[38;5;28;01mif\u001b[39;00m nmissing \u001b[38;5;241m==\u001b[39m \u001b[38;5;28mlen\u001b[39m(indexer):\n\u001b[1;32m-> 6249\u001b[0m         \u001b[38;5;28;01mraise\u001b[39;00m \u001b[38;5;167;01mKeyError\u001b[39;00m(\u001b[38;5;124mf\u001b[39m\u001b[38;5;124m\"\u001b[39m\u001b[38;5;124mNone of [\u001b[39m\u001b[38;5;132;01m{\u001b[39;00mkey\u001b[38;5;132;01m}\u001b[39;00m\u001b[38;5;124m] are in the [\u001b[39m\u001b[38;5;132;01m{\u001b[39;00maxis_name\u001b[38;5;132;01m}\u001b[39;00m\u001b[38;5;124m]\u001b[39m\u001b[38;5;124m\"\u001b[39m)\n\u001b[0;32m   6251\u001b[0m     not_found \u001b[38;5;241m=\u001b[39m \u001b[38;5;28mlist\u001b[39m(ensure_index(key)[missing_mask\u001b[38;5;241m.\u001b[39mnonzero()[\u001b[38;5;241m0\u001b[39m]]\u001b[38;5;241m.\u001b[39munique())\n\u001b[0;32m   6252\u001b[0m     \u001b[38;5;28;01mraise\u001b[39;00m \u001b[38;5;167;01mKeyError\u001b[39;00m(\u001b[38;5;124mf\u001b[39m\u001b[38;5;124m\"\u001b[39m\u001b[38;5;132;01m{\u001b[39;00mnot_found\u001b[38;5;132;01m}\u001b[39;00m\u001b[38;5;124m not in index\u001b[39m\u001b[38;5;124m\"\u001b[39m)\n",
      "\u001b[1;31mKeyError\u001b[0m: \"None of [Index(['n_sdg1_wpc', 'n_sdg1_320pov', 'n_sdg2_undernsh', 'n_sdg2_stunting',\\n       'n_sdg2_wasting', 'n_sdg2_obesity', 'n_sdg2_trophic', 'n_sdg2_crlyld',\\n       'n_sdg2_snmi', 'n_sdg2_pestexp', 'n_sdg3_matmort', 'n_sdg3_neonat',\\n       'n_sdg3_u5mort', 'n_sdg3_tb', 'n_sdg3_hiv', 'n_sdg3_ncds',\\n       'n_sdg3_pollmort', 'n_sdg3_traffic', 'n_sdg3_lifee', 'n_sdg3_fertility',\\n       'n_sdg3_births', 'n_sdg3_vac', 'n_sdg3_uhc', 'n_sdg3_swb',\\n       'n_sdg4_earlyedu', 'n_sdg4_primary', 'n_sdg4_second', 'n_sdg4_literacy',\\n       'n_sdg5_familypl', 'n_sdg5_edat', 'n_sdg5_lfpr', 'n_sdg5_parl',\\n       'n_sdg6_water', 'n_sdg6_sanita', 'n_sdg6_freshwat', 'n_sdg6_wastewat',\\n       'n_sdg6_scarcew', 'n_sdg7_elecac', 'n_sdg7_cleanfuel', 'n_sdg7_co2twh',\\n       'n_sdg7_ren', 'n_sdg8_adjgrowth', 'n_sdg8_slavery', 'n_sdg8_accounts',\\n       'n_sdg8_unemp', 'n_sdg8_rights', 'n_sdg8_impacc', 'n_sdg9_intuse',\\n       'n_sdg9_mobuse', 'n_sdg9_lpi', 'n_sdg9_uni', 'n_sdg9_articles',\\n       'n_sdg9_rdex', 'n_sdg10_gini', 'n_sdg10_palma', 'n_sdg11_slums',\\n       'n_sdg11_pm25', 'n_sdg11_pipedwat', 'n_sdg11_transport', 'n_sdg12_msw',\\n       'n_sdg12_ewaste', 'n_sdg12_so2prod', 'n_sdg12_so2import',\\n       'n_sdg12_nprod', 'n_sdg12_nimport', 'n_sdg12_explastic',\\n       'n_sdg13_co2gcp', 'n_sdg13_co2import', 'n_sdg13_co2export',\\n       'n_sdg14_cpma', 'n_sdg14_cleanwat', 'n_sdg14_fishstocks',\\n       'n_sdg14_trawl', 'n_sdg14_discard', 'n_sdg14_biomar', 'n_sdg15_cpta',\\n       'n_sdg15_cpfa', 'n_sdg15_redlist', 'n_sdg15_forchg',\\n       'n_sdg15_biofrwter', 'n_sdg16_homicides', 'n_sdg16_detain',\\n       'n_sdg16_safe', 'n_sdg16_prs', 'n_sdg16_u5reg', 'n_sdg16_cpi',\\n       'n_sdg16_clabor', 'n_sdg16_weaponsexp', 'n_sdg16_rsf',\\n       'n_sdg16_justice', 'n_sdg17_govex', 'n_sdg17_oda', 'n_sdg17_govrev',\\n       'n_sdg17_cohaven', 'n_sdg17_statperf'],\\n      dtype='object')] are in the [columns]\""
     ]
    }
   ],
   "source": [
    "# Create a mapping of sub-goals to main SDG goals\n",
    "sdg_sub_goals = {}\n",
    "for main_goal, sub_goal_list in sdg_goals.items():\n",
    "    for sub_goal in sub_goal_list:\n",
    "        sdg_sub_goals.setdefault(sub_goal, []).append(main_goal)\n",
    "\n",
    "# Extract the relevant sub-goals from the correlation matrix\n",
    "sdg_bipart_pearson = sdg_pearson_data[list(sdg_sub_goals.keys())]\n",
    "\n",
    "# Limit the correlation matrix to rows corresponding to main SDG goals\n",
    "sdg_bipart_pearson = sdg_bipart_pearson.loc[list(sdg_goals.keys())]\n",
    "\n",
    "# Display the first few rows of the bipartite correlation matrix\n",
    "print(sdg_bipart_pearson.head())\n"
   ]
  },
  {
   "cell_type": "code",
   "execution_count": null,
   "metadata": {},
   "outputs": [],
   "source": [
    "sdg_bipart_pearson = sdg_pearson_data[list(sdg_sub_goals.keys())]\n",
    "sdg_bipart_pearson = sdg_bipart_pearson.loc[list(sdg_goals.keys())]\n",
    "sdg_bipart_pearson.head()"
   ]
  },
  {
   "cell_type": "code",
   "execution_count": null,
   "metadata": {},
   "outputs": [],
   "source": [
    "graph_sdg_b = nx.empty_graph(0)\n",
    "sdg_b_labels = {}\n",
    "\n",
    "A = sp.sparse.csr_matrix(sdg_bipart_pearson.values)\n",
    "n, m = A.shape\n",
    "\n",
    "sdg_names = list(sdg_bipart_pearson.index)\n",
    "graph_sdg_b.add_nodes_from(sdg_names, bipartite=0)\n",
    "for i in range(n):\n",
    "    sdg_b_labels[i] = sdg_names[i]\n",
    "\n",
    "sdg_sub_names = list(sdg_bipart_pearson.columns)\n",
    "graph_sdg_b.add_nodes_from(sdg_sub_names, bipartite=1)\n",
    "for i in range(n, n+m):\n",
    "    sdg_b_labels[i] = sdg_sub_names[i - len(range(n, n+m))]\n",
    "\n",
    "triples = ((sdg_b_labels[u], sdg_b_labels[n + v], abs(d)) for (u, v, d) in _generate_weighted_edges(A))\n",
    "graph_sdg_b.add_weighted_edges_from(triples)\n",
    "\n",
    "fig, ax = plt.subplots()\n",
    "fig.set_size_inches(15, 4)\n",
    "nx.draw(graph_sdg_b, with_labels=True, node_color='orange', node_size=400, edge_color='black', linewidths=4, font_size=12)\n",
    "#nx.write_gml(graph_sdg_b, 'sdg_and_sub_bipartite.gml')\n"
   ]
  },
  {
   "cell_type": "code",
   "execution_count": null,
   "metadata": {},
   "outputs": [],
   "source": [
    "sdg_sub_pearson = sdg_pearson_data[list(sdg_sub_goals.keys())]\n",
    "sdg_sub_pearson = sdg_sub_pearson.loc[list(sdg_sub_goals.keys())]\n",
    "sdg_sub_pearson.head()"
   ]
  },
  {
   "cell_type": "code",
   "execution_count": null,
   "metadata": {},
   "outputs": [],
   "source": [
    "sdg_pearson = sdg_pearson_data[list(sdg_goals.keys())]\n",
    "sdg_pearson = sdg_pearson.loc[list(sdg_goals.keys())]\n",
    "sdg_pearson.head()"
   ]
  },
  {
   "cell_type": "code",
   "execution_count": null,
   "metadata": {},
   "outputs": [],
   "source": [
    "sdg_goals_names = list(sdg_goals.keys())\n",
    "values = sdg_pearson.values\n",
    "graph_sdg_p = Graph.Weighted_Adjacency((values>0).tolist())\n",
    "graph_sdg_p = graph_sdg_p.simplify()\n",
    "graph_sdg_p.es['weight'] = values[values.nonzero()]\n",
    "graph_sdg_p.vs['label'] = sdg_goals_names\n",
    "graph_sdg_p = graph_sdg_p.to_networkx()\n",
    "\n",
    "nx.draw(graph_sdg_p, with_labels=True, node_color='orange', node_size=400, edge_color='black', linewidths=4, font_size=12, pos=nx.spring_layout(graph_sdg_p, k=0.15, weight='value', iterations=50))"
   ]
  },
  {
   "cell_type": "code",
   "execution_count": null,
   "metadata": {},
   "outputs": [],
   "source": [
    "sdg_sub_goals_names = list(sdg_sub_goals.keys())\n",
    "values = sdg_sub_pearson.values\n",
    "graph_sdg_sub_p = Graph.Weighted_Adjacency((values>0).tolist())\n",
    "graph_sdg_sub_p = graph_sdg_sub_p.simplify()\n",
    "graph_sdg_sub_p.es['weight'] = values[values.nonzero()]\n",
    "graph_sdg_sub_p.vs['label'] = sdg_sub_goals_names\n",
    "graph_sdg_sub_p = graph_sdg_sub_p.to_networkx()\n",
    "\n",
    "nx.draw(graph_sdg_sub_p, with_labels=True, node_color='orange', node_size=400, edge_color='black', linewidths=4, font_size=12, pos=nx.spring_layout(graph_sdg_sub_p, k=0.15, weight='value', iterations=50))"
   ]
  },
  {
   "cell_type": "code",
   "execution_count": null,
   "metadata": {},
   "outputs": [],
   "source": [
    "sdg_goals_names = list(sdg_goals.keys())\n",
    "values = sdg_pearson.values\n",
    "graph_sdg_n = Graph.Weighted_Adjacency((values<0).tolist())\n",
    "graph_sdg_n = graph_sdg_n.simplify()\n",
    "graph_sdg_n.es['weight'] = values[values.nonzero()]\n",
    "graph_sdg_n.vs['label'] = sdg_goals_names\n",
    "graph_sdg_n = graph_sdg_n.to_networkx()\n",
    "\n",
    "nx.draw(graph_sdg_n, with_labels=True, node_color='orange', node_size=400, edge_color='black', linewidths=4, font_size=12, pos=nx.spring_layout(graph_sdg_n, k=0.15, weight='value', iterations=50))"
   ]
  },
  {
   "cell_type": "code",
   "execution_count": null,
   "metadata": {},
   "outputs": [],
   "source": [
    "sdg_sub_goals_names = list(sdg_sub_goals.keys())\n",
    "values = sdg_sub_pearson.values\n",
    "graph_sdg_sub_n = Graph.Weighted_Adjacency((values<0).tolist())\n",
    "graph_sdg_sub_n = graph_sdg_sub_n.simplify()\n",
    "graph_sdg_sub_n.es['weight'] = values[values.nonzero()]\n",
    "graph_sdg_sub_n.vs['label'] = sdg_sub_goals_names\n",
    "graph_sdg_sub_n = graph_sdg_sub_n.to_networkx()\n",
    "\n",
    "nx.draw(graph_sdg_sub_n, with_labels=True, node_color='orange', node_size=400, edge_color='black', linewidths=4, font_size=12, pos=nx.spring_layout(graph_sdg_sub_n, k=0.15, weight='value', iterations=50))"
   ]
  },
  {
   "cell_type": "code",
   "execution_count": null,
   "metadata": {},
   "outputs": [],
   "source": [
    "for target_1 in sdg_goals_names:\n",
    "    figure, ax = plt.subplots(figsize=(20,10))\n",
    "    goal_name_1 = target_1\n",
    "    ax = sns.regplot(data=sdg_data, x=goal_name_1, y=goal_name_1, order=1, ax = ax, scatter=False)\n",
    "    for target_2 in sdg_goals_names:\n",
    "        if target_2 != target_1:\n",
    "            goal_name_2 = target_2\n",
    "            ax = sns.regplot(data=sdg_data, x=goal_name_1, y=goal_name_2, order=1, ax = ax, scatter=False)"
   ]
  },
  {
   "cell_type": "code",
   "execution_count": null,
   "metadata": {},
   "outputs": [],
   "source": [
    "for target_1 in sdg_sub_goals_names:\n",
    "    figure, ax = plt.subplots(figsize=(20,10))\n",
    "    goal_name_1 = target_1\n",
    "    ax = sns.regplot(data=sdg_data, x=goal_name_1, y=goal_name_1, order=1, ax = ax, scatter=False)\n",
    "    for target_2 in sdg_sub_goals_names:\n",
    "        if target_2 != target_1:\n",
    "            goal_name_2 = target_2\n",
    "            ax = sns.regplot(data=sdg_data, x=goal_name_1, y=goal_name_2, order=1, ax = ax, scatter=False)"
   ]
  }
 ],
 "metadata": {
  "kernelspec": {
   "display_name": "Python 3",
   "language": "python",
   "name": "python3"
  },
  "language_info": {
   "codemirror_mode": {
    "name": "ipython",
    "version": 3
   },
   "file_extension": ".py",
   "mimetype": "text/x-python",
   "name": "python",
   "nbconvert_exporter": "python",
   "pygments_lexer": "ipython3",
   "version": "3.12.6"
  },
  "orig_nbformat": 4,
  "vscode": {
   "interpreter": {
    "hash": "369f2c481f4da34e4445cda3fffd2e751bd1c4d706f27375911949ba6bb62e1c"
   }
  }
 },
 "nbformat": 4,
 "nbformat_minor": 2
}
